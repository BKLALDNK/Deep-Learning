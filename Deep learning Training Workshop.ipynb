{
 "cells": [
  {
   "cell_type": "markdown",
   "metadata": {},
   "source": [
    "# Deep Learning - Model Training From Workshop material"
   ]
  },
  {
   "cell_type": "markdown",
   "metadata": {},
   "source": [
    "First DL Model Training - Followed a workshop of MNIST "
   ]
  },
  {
   "cell_type": "markdown",
   "metadata": {},
   "source": [
    "### Import libraries"
   ]
  },
  {
   "cell_type": "code",
   "execution_count": 12,
   "metadata": {},
   "outputs": [],
   "source": [
    "import pandas as pd\n",
    "import numpy as np\n",
    "import matplotlib.pyplot as plt\n",
    "import random\n",
    "%matplotlib inline"
   ]
  },
  {
   "cell_type": "code",
   "execution_count": 13,
   "metadata": {},
   "outputs": [],
   "source": [
    "import keras\n",
    "from keras.datasets import mnist\n",
    "from keras.models import Sequential\n",
    "from keras.layers import Dense\n",
    "from keras.layers import Dense, Dropout, Flatten\n",
    "from keras.layers import Conv2D, MaxPooling2D\n",
    "from keras import backend as K"
   ]
  },
  {
   "cell_type": "markdown",
   "metadata": {},
   "source": [
    "## Load Data\n",
    "\n",
    "We will begin by loading the MNIST data set and setting a few variables such as the number of epochs which we wish to train our Neural Network for."
   ]
  },
  {
   "cell_type": "code",
   "execution_count": 55,
   "metadata": {},
   "outputs": [],
   "source": [
    "num_epochs =100\n",
    "num_classes = 10\n",
    "batch_size= 128\n",
    "learn_rate = 0.05\n",
    "conv_epochs = 12\n",
    "img_rows, img_cols = 28, 28\n",
    "\n",
    "tr_loss, ts_loss, tr_acc, ts_acc = [], [], [], []\n",
    "\n",
    "(trainX, trainY), (testX, testY) = mnist.load_data()\n",
    "\n",
    "trainX = trainX.astype('float32')\n",
    "testX =testX.astype('float32')\n",
    "trainX /= 255\n",
    "testX /= 255"
   ]
  },
  {
   "cell_type": "markdown",
   "metadata": {},
   "source": [
    "## Visualise the Data\n",
    "\n",
    "To illustrate the shape of the data."
   ]
  },
  {
   "cell_type": "code",
   "execution_count": 56,
   "metadata": {},
   "outputs": [
    {
     "name": "stdout",
     "output_type": "stream",
     "text": [
      "Training input shape:  (60000, 28, 28)\n",
      "Training target shape:  (60000,)\n"
     ]
    },
    {
     "data": {
      "image/png": "[encoded data removed]",
      "text/plain": [
       "<Figure size 432x288 with 1 Axes>"
      ]
     },
     "metadata": {
      "needs_background": "light"
     },
     "output_type": "display_data"
    }
   ],
   "source": [
    "def show_random_image():\n",
    "    i = random.randint(0,trainX.shape[0])\n",
    "    input_image = trainX[i]\n",
    "    plt.imshow(input_image)\n",
    "    \n",
    "show_random_image()\n",
    "\n",
    "print(\"Training input shape: \", trainX.shape)\n",
    "print(\"Training target shape: \", trainY.shape)"
   ]
  },
  {
   "cell_type": "markdown",
   "metadata": {},
   "source": [
    "1) The target data `trainY` and `testY` should be one-hot-encoded. There are 10 classes.  \n",
    "2) We wish to reshape the inputs (`trainX` and `testX`) to the Neural Network to be of shape (number of images, 784). For example, currently `trainX` is of shape (60000,28,28)."
   ]
  },
  {
   "cell_type": "code",
   "execution_count": 57,
   "metadata": {},
   "outputs": [],
   "source": [
    "def get_one_hot(targets, nb_classes):\n",
    "\n",
    "    res = np.eye(nb_classes)[np.array(targets).reshape(-1)]\n",
    "    return res.reshape(list(targets.shape)+[nb_classes])"
   ]
  },
  {
   "cell_type": "code",
   "execution_count": 58,
   "metadata": {},
   "outputs": [],
   "source": [
    "trainX = trainX.reshape(-1,784)\n",
    "testX = testX.reshape(-1,784)\n",
    "\n",
    "trainY = get_one_hot(trainY, 10)\n",
    "testY = get_one_hot(testY, 10)"
   ]
  },
  {
   "cell_type": "markdown",
   "metadata": {},
   "source": [
    "## Create Activation Functions and Their Derivatives\n",
    "\n",
    "The expressiveness of a Neural Net comes from applying non-linear activation functions. \n",
    "\n",
    "Remember that our inputs will be numpy arrays, not scalars."
   ]
  },
  {
   "cell_type": "code",
   "execution_count": 59,
   "metadata": {},
   "outputs": [],
   "source": [
    "def sigmoid(x):\n",
    "\n",
    "    return 1/(1 + np.exp(-x))\n",
    "\n",
    "def sigmoid_prime(x):\n",
    "\n",
    "    return sigmoid(x) * (1 - sigmoid(x))\n",
    "\n",
    "def relu(x):\n",
    "\n",
    "    return np.maximum(x, 0)\n",
    "    \n",
    "def relu_prime(x):\n",
    "\n",
    "    return np.greater(x, 0).astype(int)\n",
    " \n",
    "def softmax(x):\n",
    "\n",
    "    expx = np.exp(x)\n",
    "    return expx / expx.sum(axis=1, keepdims=True)\n"
   ]
  },
  {
   "cell_type": "markdown",
   "metadata": {},
   "source": [
    "## Create Cost Function"
   ]
  },
  {
   "cell_type": "code",
   "execution_count": 60,
   "metadata": {},
   "outputs": [],
   "source": [
    "def cost(y_truth, y_pred):\n",
    "    return -((y_truth * np.log(y_pred)).sum())/y_pred.shape[0]"
   ]
  },
  {
   "cell_type": "markdown",
   "metadata": {},
   "source": [
    "## Initialise Weights and Store Activations and their Derivatives"
   ]
  },
  {
   "cell_type": "code",
   "execution_count": 61,
   "metadata": {},
   "outputs": [],
   "source": [
    "weights = [np.random.randn(*w) * 0.1 for w in [(784, 100), (100, 50), (50,10)]]\n",
    "biases = [np.random.randn(*b) * 0.1 for b in [(100,), (50,), (10,)]]\n",
    "activations = [(sigmoid, sigmoid_prime), (relu, relu_prime), (softmax, None)]"
   ]
  },
  {
   "cell_type": "markdown",
   "metadata": {},
   "source": [
    "## Forward Propagation"
   ]
  },
  {
   "cell_type": "code",
   "execution_count": 62,
   "metadata": {},
   "outputs": [],
   "source": [
    "def forward(X, weights, biases, act):\n",
    "    a = [X]\n",
    "    \n",
    "    for w,b,f in zip(weights, biases, act):\n",
    "\n",
    "        a.append(f[0](a[-1].dot(w) + b))\n",
    "        \n",
    "    return a"
   ]
  },
  {
   "cell_type": "markdown",
   "metadata": {},
   "source": [
    "## Dimentionality Check"
   ]
  },
  {
   "cell_type": "code",
   "execution_count": 63,
   "metadata": {},
   "outputs": [
    {
     "name": "stdout",
     "output_type": "stream",
     "text": [
      "Our list of activations has 4 elements, each a numpy array\n",
      "Forward prop on first image: How does dimensionality work?\n",
      "Layer  0  shape = (1, 784)\n",
      "Layer  1  shape = (1, 100)\n",
      "Layer  2  shape = (1, 50)\n",
      "Layer  3  shape = (1, 10)\n",
      " \n",
      "Forward prop on batch of 10 images: How does dimensionality work?\n",
      "Layer  0  shape = (10, 784)\n",
      "Layer  1  shape = (10, 100)\n",
      "Layer  2  shape = (10, 50)\n",
      "Layer  3  shape = (10, 10)\n"
     ]
    }
   ],
   "source": [
    "print(\"Our list of activations has 4 elements, each a numpy array\")\n",
    "print(\"Forward prop on first image: How does dimensionality work?\")\n",
    "a_test1 = forward(trainX[0].reshape(-1,784),weights, biases,activations)\n",
    "for i in range(len(a_test1)):\n",
    "    print(\"Layer \",i, \" shape =\",a_test1[i].shape)\n",
    " \n",
    "print(\"Forward prop on batch of 10 images: How does dimensionality work?\")  \n",
    "a_test10 = forward(trainX[0:10].reshape(-1,784),weights, biases,activations)\n",
    "for i in range(len(a_test10)):\n",
    "    print(\"Layer \",i, \" shape =\",a_test10[i].shape)"
   ]
  },
  {
   "cell_type": "markdown",
   "metadata": {},
   "source": [
    "## Calculate the Gradients of our Error with respect to all the Neural Network Parameters\n",
    "\n",
    "Here we will use backpropogation.\n"
   ]
  },
  {
   "cell_type": "code",
   "execution_count": 64,
   "metadata": {},
   "outputs": [],
   "source": [
    "def gradients(X, Y, weights, biases, act):\n",
    "    # Perform a forward pass and store the return values in a variable named a:\n",
    "\n",
    "    a = forward(X, weights, biases, activations)\n",
    "\n",
    "    #Inialise gradients of weights and biases\n",
    "    gradients = np.empty_like(weights)\n",
    "    grad_bias = np.empty_like(biases)\n",
    "\n",
    "    #Perform back propogation on the output layer only\n",
    "    #to understand how this works examine the differential of the loss function\n",
    "    delta = a[-1] - Y\n",
    "    gradients[-1] = a[-2].T.dot(delta)\n",
    "    grad_bias[-1] = np.sum(delta, axis=0)\n",
    "\n",
    "    for i in range(len(a)-2,0,-1):\n",
    "        #For each layer calculate the gradients\n",
    "        \n",
    "        delta = act[i-1][1](a[i]) * delta.dot(weights[i].T)\n",
    "        grad_bias[i-1] = np.sum(delta, axis=0)\n",
    "        gradients[i-1] = a[i-1].T.dot(delta)\n",
    "    \n",
    "\n",
    "    #Divide weight gradients and biases by the batch size\n",
    "    \n",
    "    grad_bias = grad_bias / len(X)\n",
    "    gradients = gradients / len(X)\n",
    "\n",
    "\n",
    "    return gradients, grad_bias"
   ]
  },
  {
   "cell_type": "code",
   "execution_count": 72,
   "metadata": {},
   "outputs": [
    {
     "name": "stdout",
     "output_type": "stream",
     "text": [
      "Gradients and biases - : How does dimensionality work?\n",
      "Layer : 0  Gradients, Biases - shape = (784, 100) (100,)\n",
      "Layer : 1  Gradients, Biases - shape = (100, 50) (50,)\n",
      "Layer : 2  Gradients, Biases - shape = (50, 10) (10,)\n"
     ]
    }
   ],
   "source": [
    "print(\"Gradients and biases - : How does dimensionality work?\")\n",
    "a = forward(trainX[0].reshape(-1,784),weights, biases,activations)\n",
    "\n",
    "for i in range(len(weights)):\n",
    "    grad_test1, grad_bias1 = gradients(trainX[0].reshape(-1,784), trainY[0], weights, biases, activations)\n",
    "    print(\"Layer :\", i, \" Gradients, Biases - shape =\", grad_test1[i].shape, grad_bias1[i].shape) "
   ]
  },
  {
   "cell_type": "markdown",
   "metadata": {},
   "source": [
    "## Train the Neural Network\n",
    "\n",
    "The outer loop will be the number of epochs we wish to perform, for each epoch we will loop in batches, thus this is mini-batch gradient descent.\n",
    "\n",
    "__Task:__   \n",
    "1) Within the inner loop calculate the gradients and biases and store in variables `gradw`, `biases`.   \n",
    "2) Within the inner loop update the `weights` and `biases` using the respective gradients, and set the step size via the variable `learn_rate` defined earlier.   \n",
    "3) In the outer loop create predictions on the training and test set, then store the results in variables `trpreds`, `tstpreds`.    \n",
    "4) Next calculate the training and test cost, and store the results in variables `ctr`, `cst`.\n",
    "\n",
    "We will choose the argmax of those predictions and use this to calculate our the accuracy of our predictions.\n"
   ]
  },
  {
   "cell_type": "code",
   "execution_count": 66,
   "metadata": {},
   "outputs": [
    {
     "name": "stdout",
     "output_type": "stream",
     "text": [
      "Epoch: 0 Tr_loss: 0.8187912019460861 Tst_loss: 0.7991829930306033 Tr_acc: 0.7668833333333334 Tst_acc: 0.77\n",
      "Epoch: 5 Tr_loss: 0.3100980752148637 Tst_loss: 0.29796272847852784 Tr_acc: 0.9093 Tst_acc: 0.9116\n",
      "Epoch: 10 Tr_loss: 0.26741066870445035 Tst_loss: 0.2616761967080491 Tr_acc: 0.9218166666666666 Tst_acc: 0.9246\n",
      "Epoch: 15 Tr_loss: 0.2415059605965725 Tst_loss: 0.24009305352314828 Tr_acc: 0.9290666666666667 Tst_acc: 0.9286\n",
      "Epoch: 20 Tr_loss: 0.2201034819413394 Tst_loss: 0.2218559564157161 Tr_acc: 0.9355333333333333 Tst_acc: 0.9339\n",
      "Epoch: 25 Tr_loss: 0.20096579147191032 Tst_loss: 0.20519958208216404 Tr_acc: 0.9409166666666666 Tst_acc: 0.9387\n",
      "Epoch: 30 Tr_loss: 0.18362473907836502 Tst_loss: 0.1897801769216532 Tr_acc: 0.9462333333333334 Tst_acc: 0.9427\n",
      "Epoch: 35 Tr_loss: 0.1681133045966336 Tst_loss: 0.17587393375416813 Tr_acc: 0.9507833333333333 Tst_acc: 0.9461\n",
      "Epoch: 40 Tr_loss: 0.15464478125159173 Tst_loss: 0.16405645887716008 Tr_acc: 0.9544833333333334 Tst_acc: 0.9511\n",
      "Epoch: 45 Tr_loss: 0.14358731330548385 Tst_loss: 0.15496593137122505 Tr_acc: 0.9579166666666666 Tst_acc: 0.9538\n",
      "Epoch: 50 Tr_loss: 0.13432426624459004 Tst_loss: 0.14788386103740062 Tr_acc: 0.9603833333333334 Tst_acc: 0.9559\n",
      "Epoch: 55 Tr_loss: 0.12632065358294906 Tst_loss: 0.14234172488839983 Tr_acc: 0.9625666666666667 Tst_acc: 0.957\n",
      "Epoch: 60 Tr_loss: 0.11949172486557 Tst_loss: 0.13808533049346677 Tr_acc: 0.9648166666666667 Tst_acc: 0.9583\n",
      "Epoch: 65 Tr_loss: 0.11353496110111311 Tst_loss: 0.13451197974186715 Tr_acc: 0.96635 Tst_acc: 0.9598\n",
      "Epoch: 70 Tr_loss: 0.10836048804917515 Tst_loss: 0.1317624370971932 Tr_acc: 0.9676666666666667 Tst_acc: 0.9612\n",
      "Epoch: 75 Tr_loss: 0.10368828605771611 Tst_loss: 0.1295297581271623 Tr_acc: 0.9691 Tst_acc: 0.9617\n",
      "Epoch: 80 Tr_loss: 0.09941577997540359 Tst_loss: 0.1273354447724472 Tr_acc: 0.9703 Tst_acc: 0.9623\n",
      "Epoch: 85 Tr_loss: 0.0954686713170106 Tst_loss: 0.12548546850954964 Tr_acc: 0.9714833333333334 Tst_acc: 0.9628\n",
      "Epoch: 90 Tr_loss: 0.09175167950551448 Tst_loss: 0.12352374043904531 Tr_acc: 0.9725 Tst_acc: 0.9629\n",
      "Epoch: 95 Tr_loss: 0.088576460639519 Tst_loss: 0.12199023391504746 Tr_acc: 0.9736666666666667 Tst_acc: 0.9621\n"
     ]
    }
   ],
   "source": [
    "for i in range(num_epochs):\n",
    "    for j in range(0, len(trainX), batch_size):\n",
    "        X, Y = trainX[j:j+batch_size], trainY[j:j+batch_size]\n",
    "        \n",
    "        gradw, grad_bias = gradients(X, Y, weights, biases, activations)\n",
    "        biases -= learn_rate * grad_bias\n",
    "        weights -= learn_rate * gradw\n",
    "    \n",
    "    trpreds = forward(trainX, weights, biases, activations)[-1]\n",
    "    tstpreds = forward(testX, weights, biases, activations)[-1]\n",
    "    ctr = cost(trainY, trpreds)\n",
    "    cst = cost(testY, tstpreds)\n",
    "\n",
    "    tr_loss.append(ctr)\n",
    "    ts_loss.append(cst)\n",
    "    \n",
    "    trpred_onehot = np.argmax(trpreds, axis=1)\n",
    "    tstpred_onehot = np.argmax(tstpreds, axis=1)\n",
    "    \n",
    "    train_acc = np.mean(trpred_onehot == np.argmax(trainY, axis=1))\n",
    "    test_acc = np.mean(tstpred_onehot == np.argmax(testY, axis=1))\n",
    "    tr_acc.append(train_acc)\n",
    "    ts_acc.append(test_acc)\n",
    "    \n",
    "    if i%5==0:\n",
    "        print(\"Epoch:\", i, \"Tr_loss:\", ctr, \"Tst_loss:\", cst , \"Tr_acc:\",train_acc, \"Tst_acc:\", test_acc)"
   ]
  },
  {
   "cell_type": "code",
   "execution_count": 69,
   "metadata": {},
   "outputs": [
    {
     "data": {
      "text/plain": [
       "Text(0.5, 0, 'Epoch')"
      ]
     },
     "execution_count": 69,
     "metadata": {},
     "output_type": "execute_result"
    },
    {
     "data": {
      "image/png": "[encoded data removed]",
      "text/plain": [
       "<Figure size 432x288 with 1 Axes>"
      ]
     },
     "metadata": {
      "needs_background": "light"
     },
     "output_type": "display_data"
    }
   ],
   "source": [
    "plt.plot(tr_loss, label='Manual Training Loss')\n",
    "plt.plot(ts_loss, label='Manual Test Loss')\n",
    "\n",
    "plt.legend()\n",
    "plt.title('Hand Coded versus Adam Losses')\n",
    "plt.ylabel('Cross Entropy loss')\n",
    "plt.xlabel('Epoch')"
   ]
  },
  {
   "cell_type": "code",
   "execution_count": 70,
   "metadata": {},
   "outputs": [
    {
     "data": {
      "text/plain": [
       "Text(0.5, 0, 'Epoch')"
      ]
     },
     "execution_count": 70,
     "metadata": {},
     "output_type": "execute_result"
    },
    {
     "data": {
      "image/png": "[encoded data removed]",
      "text/plain": [
       "<Figure size 432x288 with 1 Axes>"
      ]
     },
     "metadata": {
      "needs_background": "light"
     },
     "output_type": "display_data"
    }
   ],
   "source": [
    "plt.plot(tr_acc, label='Manual Train Acc')\n",
    "plt.plot(ts_acc, label='Manual Test Acc')\n",
    "\n",
    "plt.legend()\n",
    "plt.title('Hand Coded versus Adam Accuracy')\n",
    "plt.ylabel('Accuracy')\n",
    "plt.xlabel('Epoch')"
   ]
  },
  {
   "cell_type": "markdown",
   "metadata": {},
   "source": [
    "Examine Predictions"
   ]
  },
  {
   "cell_type": "code",
   "execution_count": 71,
   "metadata": {},
   "outputs": [
    {
     "data": {
      "image/png": "[encoded data removed]",
      "text/plain": [
       "<Figure size 1080x792 with 1 Axes>"
      ]
     },
     "metadata": {},
     "output_type": "display_data"
    },
    {
     "data": {
      "image/png": "[encoded data removed]",
      "text/plain": [
       "<Figure size 1080x792 with 1 Axes>"
      ]
     },
     "metadata": {},
     "output_type": "display_data"
    },
    {
     "data": {
      "image/png": "[encoded data removed]",
      "text/plain": [
       "<Figure size 1080x792 with 1 Axes>"
      ]
     },
     "metadata": {},
     "output_type": "display_data"
    },
    {
     "data": {
      "image/png": "[encoded data removed]",
      "text/plain": [
       "<Figure size 1080x792 with 1 Axes>"
      ]
     },
     "metadata": {},
     "output_type": "display_data"
    },
    {
     "data": {
      "image/png": "[encoded data removed]",
      "text/plain": [
       "<Figure size 1080x792 with 1 Axes>"
      ]
     },
     "metadata": {},
     "output_type": "display_data"
    },
    {
     "data": {
      "image/png": "[encoded data removed]",
      "text/plain": [
       "<Figure size 1080x792 with 1 Axes>"
      ]
     },
     "metadata": {},
     "output_type": "display_data"
    },
    {
     "data": {
      "image/png": "[encoded data removed]",
      "text/plain": [
       "<Figure size 1080x792 with 1 Axes>"
      ]
     },
     "metadata": {},
     "output_type": "display_data"
    },
    {
     "data": {
      "image/png": "[encoded data removed]",
      "text/plain": [
       "<Figure size 1080x792 with 1 Axes>"
      ]
     },
     "metadata": {},
     "output_type": "display_data"
    },
    {
     "data": {
      "image/png": "[encoded data removed]",
      "text/plain": [
       "<Figure size 1080x792 with 1 Axes>"
      ]
     },
     "metadata": {},
     "output_type": "display_data"
    },
    {
     "data": {
      "image/png": "[encoded data removed]",
      "text/plain": [
       "<Figure size 1080x792 with 1 Axes>"
      ]
     },
     "metadata": {},
     "output_type": "display_data"
    }
   ],
   "source": [
    "for i in range(10):\n",
    "    input_image = testX[i].reshape(1,784)\n",
    "    \n",
    "    tstpreds = forward(input_image, weights, biases, activations)[-1]\n",
    "    \n",
    "    fig            = plt.figure(i, figsize=(15, 11))\n",
    "    ax = plt.subplot(1, 3, 1)\n",
    "    ax.set_xticks(())\n",
    "    ax.set_yticks(())\n",
    "    plt.imshow(input_image.reshape(28,28))\n",
    "    plt.xlabel(\"Neural Net prediction: \" + str(np.argmax(tstpreds)))"
   ]
  },
  {
   "cell_type": "markdown",
   "metadata": {},
   "source": [
    "Next: DL Training First hand"
   ]
  }
 ],
 "metadata": {
  "kernelspec": {
   "display_name": "Python 3",
   "language": "python",
   "name": "python3"
  },
  "language_info": {
   "codemirror_mode": {
    "name": "ipython",
    "version": 3
   },
   "file_extension": ".py",
   "mimetype": "text/x-python",
   "name": "python",
   "nbconvert_exporter": "python",
   "pygments_lexer": "ipython3",
   "version": "3.7.6"
  }
 },
 "nbformat": 4,
 "nbformat_minor": 4
}
